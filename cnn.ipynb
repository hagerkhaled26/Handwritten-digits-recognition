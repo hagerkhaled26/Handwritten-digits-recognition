{
  "nbformat": 4,
  "nbformat_minor": 0,
  "metadata": {
    "colab": {
      "name": "cnn.ipynb",
      "provenance": [],
      "include_colab_link": true
    },
    "kernelspec": {
      "name": "python3",
      "display_name": "Python 3"
    }
  },
  "cells": [
    {
      "cell_type": "markdown",
      "metadata": {
        "id": "view-in-github",
        "colab_type": "text"
      },
      "source": [
        "<a href=\"https://colab.research.google.com/github/hagerkhaled26/Handwritten-digits-recognition/blob/master/cnn.ipynb\" target=\"_parent\"><img src=\"https://colab.research.google.com/assets/colab-badge.svg\" alt=\"Open In Colab\"/></a>"
      ]
    },
    {
      "cell_type": "code",
      "metadata": {
        "id": "gHzxqvwOcvb4"
      },
      "source": [
        "import keras "
      ],
      "execution_count": null,
      "outputs": []
    },
    {
      "cell_type": "code",
      "metadata": {
        "id": "obPcoxxWSOO_"
      },
      "source": [
        "from keras.datasets import mnist"
      ],
      "execution_count": null,
      "outputs": []
    },
    {
      "cell_type": "code",
      "metadata": {
        "id": "my__c5QBSVIY"
      },
      "source": [
        "from keras.models import Sequential"
      ],
      "execution_count": null,
      "outputs": []
    },
    {
      "cell_type": "code",
      "metadata": {
        "id": "FV88PKcbSb9-"
      },
      "source": [
        "from keras.layers import Dense"
      ],
      "execution_count": null,
      "outputs": []
    },
    {
      "cell_type": "code",
      "metadata": {
        "id": "al2end2RSid9"
      },
      "source": [
        "from keras.layers import  Dropout, Activation, Flatten, Add, BatchNormalization, Dropout\n",
        "from keras.layers import Convolution2D ,  MaxPooling2D,Conv2D"
      ],
      "execution_count": null,
      "outputs": []
    },
    {
      "cell_type": "code",
      "metadata": {
        "id": "HXFQRT0GSxuh"
      },
      "source": [
        "from keras.utils import to_categorical\n",
        "from sklearn.model_selection import KFold"
      ],
      "execution_count": null,
      "outputs": []
    },
    {
      "cell_type": "code",
      "metadata": {
        "colab": {
          "base_uri": "https://localhost:8080/"
        },
        "id": "DKY9WIgOS3a9",
        "outputId": "e202caee-5056-416a-e154-b23c2df3a159"
      },
      "source": [
        "(X_train, Y_train), (X_test, Y_test) = mnist.load_data()"
      ],
      "execution_count": null,
      "outputs": [
        {
          "output_type": "stream",
          "text": [
            "Downloading data from https://storage.googleapis.com/tensorflow/tf-keras-datasets/mnist.npz\n",
            "11493376/11490434 [==============================] - 0s 0us/step\n"
          ],
          "name": "stdout"
        }
      ]
    },
    {
      "cell_type": "code",
      "metadata": {
        "id": "S1yUau2wTLSy"
      },
      "source": [
        "X_train = X_train.reshape(X_train.shape[0], 28, 28,1)\n",
        "X_test = X_test.reshape(X_test.shape[0], 28, 28,1)"
      ],
      "execution_count": null,
      "outputs": []
    },
    {
      "cell_type": "code",
      "metadata": {
        "id": "6LqzPiBiTUfB"
      },
      "source": [
        "X_train = X_train.astype('float32')\n",
        "X_test = X_test.astype('float32')\n",
        "X_train /= 255\n",
        "X_test /= 255"
      ],
      "execution_count": null,
      "outputs": []
    },
    {
      "cell_type": "code",
      "metadata": {
        "id": "qhL7pjigTXOR"
      },
      "source": [
        "Y_train = to_categorical(Y_train)\n",
        "Y_test = to_categorical(Y_test)"
      ],
      "execution_count": null,
      "outputs": []
    },
    {
      "cell_type": "code",
      "metadata": {
        "id": "JcflAQNWdIr0"
      },
      "source": [
        "def create_model(num_layers):\n",
        "  model = Sequential()\n",
        "  model.add(Conv2D(num_layers[0], kernel_size = 3, activation='relu', input_shape = (28, 28, 1)))\n",
        "  for s in num_layers[1:]:\n",
        "    model.add(Conv2D(32, kernel_size = 3, activation='relu'))\n",
        "    model.add(MaxPooling2D((2, 2)))\n",
        "  model.add(Dropout(0.4))\n",
        "  model.add(Flatten())\n",
        "  model.add(Dense(10, activation='softmax'))\n",
        "  model.compile(optimizer=\"adam\", loss=\"categorical_crossentropy\", metrics=[\"accuracy\"])\n",
        "  return model"
      ],
      "execution_count": null,
      "outputs": []
    },
    {
      "cell_type": "code",
      "metadata": {
        "id": "kd-LfEiVMeG1"
      },
      "source": [
        "def evaluate_model(X_batch,Y_batch,n_folds=5):\n",
        "  scores=list()\n",
        "  kfold=KFold(n_folds,shuffle=True,random_state=1)\n",
        "  for layers in range (1,3):\n",
        "    print(\"model {0:d}: \".format(layers))\n",
        "    for x_train ,x_test in kfold.split(X_batch):\n",
        "      model=create_model([32]*layers)\n",
        "      train_X,train_Y,test_X,test_Y=X_batch[x_train],Y_batch[x_train],X_batch[x_test],Y_batch[x_test]\n",
        "      history = model.fit(train_X, train_Y, epochs=10, batch_size=30, validation_data=(test_X, test_Y), verbose=0)\n",
        "      loss,acc = model.evaluate(test_X, test_Y, verbose=0)\n",
        "      scores.append(acc)\n",
        "    print(max(scores)*100.0)\n",
        "  return \n",
        "    \n",
        "\n",
        "      \n",
        "    \n"
      ],
      "execution_count": null,
      "outputs": []
    },
    {
      "cell_type": "code",
      "metadata": {
        "id": "Vn5mp5CTCexp"
      },
      "source": [
        "def create_model(num_layers):\n",
        "  model = Sequential()\n",
        "  model.add(Conv2D(num_layers[0], kernel_size = 3, activation='relu', input_shape = (28, 28, 1)))\n",
        "  for s in num_layers[1:]:\n",
        "    model.add(Conv2D(32, kernel_size = 3, activation='relu'))\n",
        "    model.add(MaxPooling2D((2, 2)))\n",
        "  model.add(Dropout(0.4))\n",
        "  model.add(Flatten())\n",
        "  model.add(Dense(10, activation='softmax'))\n",
        "  model.compile(optimizer=\"adam\", loss=\"categorical_crossentropy\", metrics=[\"accuracy\"])\n",
        "  return model"
      ],
      "execution_count": null,
      "outputs": []
    },
    {
      "cell_type": "code",
      "metadata": {
        "id": "WPUDCmiaH4Es",
        "colab": {
          "base_uri": "https://localhost:8080/"
        },
        "outputId": "b03dfc76-1e59-49fa-aff5-f27696d43d36"
      },
      "source": [
        "evaluate_model(X_train,Y_train)"
      ],
      "execution_count": null,
      "outputs": [
        {
          "output_type": "stream",
          "text": [
            "model 1: \n",
            "97.72666692733765\n",
            "model 2: \n",
            "98.60666394233704\n"
          ],
          "name": "stdout"
        }
      ]
    },
    {
      "cell_type": "code",
      "metadata": {
        "id": "XuoE9lbWutPs"
      },
      "source": [
        ""
      ],
      "execution_count": null,
      "outputs": []
    }
  ]
}